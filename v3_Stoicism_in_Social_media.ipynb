{
  "cells": [
    {
      "cell_type": "markdown",
      "metadata": {
        "id": "view-in-github",
        "colab_type": "text"
      },
      "source": [
        "<a href=\"https://colab.research.google.com/github/RPAlbuquerque/Stoicism-Related-Tweets-Key-Findings-and-Insights/blob/main/v3_Stoicism_in_Social_media.ipynb\" target=\"_parent\"><img src=\"https://colab.research.google.com/assets/colab-badge.svg\" alt=\"Open In Colab\"/></a>"
      ]
    },
    {
      "cell_type": "code",
      "execution_count": null,
      "id": "b8fb9148-1fcb-469c-b5ce-9bfdcf740644",
      "metadata": {
        "id": "b8fb9148-1fcb-469c-b5ce-9bfdcf740644"
      },
      "outputs": [],
      "source": [
        "##🔹 Block 1 — Filtering Tweets with Stoicism-Related Keywords (/n/netscratch/cga/Lab/rpalbuquerque/stoicism_v2/filtered_tweets_by_year/)"
      ]
    },
    {
      "cell_type": "code",
      "execution_count": null,
      "id": "ef316d5d-6a17-4d4f-8124-d06c1b64d17d",
      "metadata": {
        "id": "ef316d5d-6a17-4d4f-8124-d06c1b64d17d"
      },
      "outputs": [],
      "source": [
        "##🔹 Block 2 — Semantic Sampling & Term Frequency Analysis (Years 2011–2023)"
      ]
    },
    {
      "cell_type": "code",
      "execution_count": null,
      "id": "22480202-68bd-4367-ac74-4be0e7e75889",
      "metadata": {
        "id": "22480202-68bd-4367-ac74-4be0e7e75889",
        "outputId": "77efda98-93f8-4df9-c844-2f60634aa88d"
      },
      "outputs": [
        {
          "name": "stdout",
          "output_type": "stream",
          "text": [
            "📁 Found 14 files:\n",
            "\n",
            "🔍 filtered_tweets_2010.csv.gz — [ERROR] Could not read file: No columns to parse from file\n",
            "\n",
            "🔍 filtered_tweets_2011.csv.gz — 3 rows × 25 cols\n",
            "🧩 Columns: ['message_id', 'date', 'text', 'tags', 'tweet_lang', 'source', 'place', 'geom', 'retweets', 'tweet_favorites', 'photo_url', 'quoted_status_id', 'user_id', 'user_name', 'user_location', 'followers', 'friends', 'user_favorites', 'status', 'user_lang', 'latitude', 'longitude', 'data_source', 'GPS', 'spatialerror']\n",
            "\n",
            "🔍 filtered_tweets_2012.csv.gz — 3 rows × 25 cols\n",
            "🧩 Columns: ['message_id', 'date', 'text', 'tags', 'tweet_lang', 'source', 'place', 'geom', 'retweets', 'tweet_favorites', 'photo_url', 'quoted_status_id', 'user_id', 'user_name', 'user_location', 'followers', 'friends', 'user_favorites', 'status', 'user_lang', 'latitude', 'longitude', 'data_source', 'GPS', 'spatialerror']\n",
            "\n",
            "🔍 filtered_tweets_2013.csv.gz — 3 rows × 25 cols\n",
            "🧩 Columns: ['message_id', 'date', 'text', 'tags', 'tweet_lang', 'source', 'place', 'geom', 'retweets', 'tweet_favorites', 'photo_url', 'quoted_status_id', 'user_id', 'user_name', 'user_location', 'followers', 'friends', 'user_favorites', 'status', 'user_lang', 'latitude', 'longitude', 'data_source', 'GPS', 'spatialerror']\n",
            "\n",
            "🔍 filtered_tweets_2014.csv.gz — 3 rows × 25 cols\n",
            "🧩 Columns: ['message_id', 'date', 'text', 'tags', 'tweet_lang', 'source', 'place', 'geom', 'retweets', 'tweet_favorites', 'photo_url', 'quoted_status_id', 'user_id', 'user_name', 'user_location', 'followers', 'friends', 'user_favorites', 'status', 'user_lang', 'latitude', 'longitude', 'data_source', 'GPS', 'spatialerror']\n",
            "\n",
            "🔍 filtered_tweets_2015.csv.gz — 3 rows × 25 cols\n",
            "🧩 Columns: ['message_id', 'date', 'text', 'tags', 'tweet_lang', 'source', 'place', 'geom', 'retweets', 'tweet_favorites', 'photo_url', 'quoted_status_id', 'user_id', 'user_name', 'user_location', 'followers', 'friends', 'user_favorites', 'status', 'user_lang', 'latitude', 'longitude', 'data_source', 'GPS', 'spatialerror']\n",
            "\n",
            "🔍 filtered_tweets_2016.csv.gz — 3 rows × 25 cols\n",
            "🧩 Columns: ['message_id', 'date', 'text', 'tags', 'tweet_lang', 'source', 'place', 'geom', 'retweets', 'tweet_favorites', 'photo_url', 'quoted_status_id', 'user_id', 'user_name', 'user_location', 'followers', 'friends', 'user_favorites', 'status', 'user_lang', 'latitude', 'longitude', 'data_source', 'GPS', 'spatialerror']\n",
            "\n",
            "🔍 filtered_tweets_2017.csv.gz — 3 rows × 25 cols\n",
            "🧩 Columns: ['message_id', 'date', 'text', 'tags', 'tweet_lang', 'source', 'place', 'geom', 'retweets', 'tweet_favorites', 'photo_url', 'quoted_status_id', 'user_id', 'user_name', 'user_location', 'followers', 'friends', 'user_favorites', 'status', 'user_lang', 'latitude', 'longitude', 'data_source', 'GPS', 'spatialerror']\n",
            "\n",
            "🔍 filtered_tweets_2018.csv.gz — 3 rows × 25 cols\n",
            "🧩 Columns: ['message_id', 'date', 'text', 'tags', 'tweet_lang', 'source', 'place', 'geom', 'retweets', 'tweet_favorites', 'photo_url', 'quoted_status_id', 'user_id', 'user_name', 'user_location', 'followers', 'friends', 'user_favorites', 'status', 'user_lang', 'latitude', 'longitude', 'data_source', 'GPS', 'spatialerror']\n",
            "\n",
            "🔍 filtered_tweets_2019.csv.gz — 3 rows × 25 cols\n",
            "🧩 Columns: ['message_id', 'date', 'text', 'tags', 'tweet_lang', 'source', 'place', 'geom', 'retweets', 'tweet_favorites', 'photo_url', 'quoted_status_id', 'user_id', 'user_name', 'user_location', 'followers', 'friends', 'user_favorites', 'status', 'user_lang', 'latitude', 'longitude', 'data_source', 'GPS', 'spatialerror']\n",
            "\n",
            "🔍 filtered_tweets_2020.csv.gz — 3 rows × 25 cols\n",
            "🧩 Columns: ['message_id', 'date', 'text', 'tags', 'tweet_lang', 'source', 'place', 'geom', 'retweets', 'tweet_favorites', 'photo_url', 'quoted_status_id', 'user_id', 'user_name', 'user_location', 'followers', 'friends', 'user_favorites', 'status', 'user_lang', 'latitude', 'longitude', 'data_source', 'GPS', 'spatialerror']\n",
            "\n",
            "🔍 filtered_tweets_2021.csv.gz — 3 rows × 25 cols\n",
            "🧩 Columns: ['message_id', 'date', 'text', 'tags', 'tweet_lang', 'source', 'place', 'geom', 'retweets', 'tweet_favorites', 'photo_url', 'quoted_status_id', 'user_id', 'user_name', 'user_location', 'followers', 'friends', 'user_favorites', 'status', 'user_lang', 'latitude', 'longitude', 'data_source', 'GPS', 'spatialerror']\n",
            "\n",
            "🔍 filtered_tweets_2022.csv.gz — 3 rows × 25 cols\n",
            "🧩 Columns: ['message_id', 'date', 'text', 'tags', 'tweet_lang', 'source', 'place', 'geom', 'retweets', 'tweet_favorites', 'photo_url', 'quoted_status_id', 'user_id', 'user_name', 'user_location', 'followers', 'friends', 'user_favorites', 'status', 'user_lang', 'latitude', 'longitude', 'data_source', 'GPS', 'spatialerror']\n",
            "\n",
            "🔍 filtered_tweets_2023.csv.gz — 3 rows × 25 cols\n",
            "🧩 Columns: ['message_id', 'date', 'text', 'tags', 'tweet_lang', 'source', 'place', 'geom', 'retweets', 'tweet_favorites', 'photo_url', 'quoted_status_id', 'user_id', 'user_name', 'user_location', 'followers', 'friends', 'user_favorites', 'status', 'user_lang', 'latitude', 'longitude', 'data_source', 'GPS', 'spatialerror']\n",
            "\n"
          ]
        }
      ],
      "source": [
        "import os\n",
        "import pandas as pd\n",
        "\n",
        "# Caminho onde estão os arquivos da v2\n",
        "folder = \"/n/netscratch/cga/Lab/rpalbuquerque/stoicism_v2/filtered_tweets_by_year/\"\n",
        "\n",
        "# Listar arquivos .csv.gz\n",
        "files = sorted([f for f in os.listdir(folder) if f.endswith(\".csv.gz\")])\n",
        "\n",
        "print(f\"📁 Found {len(files)} files:\\n\")\n",
        "\n",
        "for file in files:\n",
        "    file_path = os.path.join(folder, file)\n",
        "    print(f\"🔍 {file} — \", end='')\n",
        "\n",
        "    try:\n",
        "        # Tenta ler apenas as 3 primeiras linhas para testar\n",
        "        df = pd.read_csv(file_path, nrows=3)\n",
        "        print(f\"{df.shape[0]} rows × {df.shape[1]} cols\")\n",
        "        print(f\"🧩 Columns: {list(df.columns)}\\n\")\n",
        "    except Exception as e:\n",
        "        print(f\"[ERROR] Could not read file: {e}\\n\")"
      ]
    },
    {
      "cell_type": "code",
      "execution_count": null,
      "id": "a66d08ee-0972-4dc6-a493-c80b841b6674",
      "metadata": {
        "id": "a66d08ee-0972-4dc6-a493-c80b841b6674",
        "outputId": "b2c3cd4b-081d-42d2-c30a-9b8839bc3d8b"
      },
      "outputs": [
        {
          "name": "stdout",
          "output_type": "stream",
          "text": [
            "🔍 Starting semantic sampling...\n"
          ]
        },
        {
          "name": "stderr",
          "output_type": "stream",
          "text": [
            "100%|██████████| 13/13 [03:36<00:00, 16.69s/it]"
          ]
        },
        {
          "name": "stdout",
          "output_type": "stream",
          "text": [
            "💾 Saving semantic validation sample...\n",
            "📈 Saving keyword frequency table...\n",
            "✅ Block 2 complete — samples and term frequencies saved.\n"
          ]
        },
        {
          "name": "stderr",
          "output_type": "stream",
          "text": [
            "\n"
          ]
        }
      ],
      "source": [
        "import os\n",
        "import re\n",
        "import pandas as pd\n",
        "from collections import Counter\n",
        "from tqdm import tqdm\n",
        "\n",
        "# -------------------------------\n",
        "# CONFIGURATION\n",
        "# -------------------------------\n",
        "INPUT_FOLDER = \"/n/netscratch/cga/Lab/rpalbuquerque/stoicism_v2/filtered_tweets_by_year/\"\n",
        "OUTPUT_SAMPLE = \"/n/netscratch/cga/Lab/rpalbuquerque/stoicism_v3/sample_semantic_validation.csv\"\n",
        "OUTPUT_TERMS = \"/n/netscratch/cga/Lab/rpalbuquerque/stoicism_v3/keyword_frequencies.csv\"\n",
        "\n",
        "YEARS = list(range(2011, 2024))  # Ignora 2010\n",
        "SAMPLE_SIZE_PER_YEAR = 50\n",
        "\n",
        "keywords = [\n",
        "    \"altrui\", \"aristot\", \"cosmop\", \"epictet\", \"epicur\", \"eudaimon\", \"hedon\", \"philosoph\",\n",
        "    \"plato\", \"pythago\", \"socrat\", \"stioc\", \"stoic\", \"amorfati\", \"aurelius\", \"chrysippus\",\n",
        "    \"cicero\", \"cleanthes\", \"commongood\", \"dichotomyofcontrol\", \"diogenes\", \"hadot\",\n",
        "    \"humandignity\", \"humanworth\", \"jordanpeterson\", \"mattis\", \"mementomori\",\n",
        "    \"moralinjury\", \"moralaction\", \"moralprogress\", \"moralpurpose\", \"musoniusrufus\",\n",
        "    \"nussbaum\", \"peripatetic\", \"pigliucci\", \"ryanholiday\", \"seneca\", \"stockdale\",\n",
        "    \"timferriss\", \"zeno\"\n",
        "]\n",
        "regex = re.compile(r\"\\b(\" + \"|\".join(keywords) + r\")\\w*\\b\", re.IGNORECASE)\n",
        "\n",
        "# -------------------------------\n",
        "# PROCESSING\n",
        "# -------------------------------\n",
        "samples = []\n",
        "term_counter = Counter()\n",
        "\n",
        "print(\"🔍 Starting semantic sampling...\")\n",
        "for year in tqdm(YEARS):\n",
        "    file_path = os.path.join(INPUT_FOLDER, f\"filtered_tweets_{year}.csv.gz\")\n",
        "    if not os.path.exists(file_path):\n",
        "        print(f\"[⚠] File not found: {file_path}\")\n",
        "        continue\n",
        "    if os.path.getsize(file_path) == 0:\n",
        "        print(f\"[⚠] Skipped {year} — file is empty.\")\n",
        "        continue\n",
        "\n",
        "    try:\n",
        "        df = pd.read_csv(file_path, sep=\",\", dtype=str, on_bad_lines='skip')\n",
        "        if df.empty or \"text\" not in df.columns:\n",
        "            print(f\"[⚠] Skipped {year} — no valid rows or missing 'text' column.\")\n",
        "            continue\n",
        "\n",
        "        df_sample = df.sample(n=min(SAMPLE_SIZE_PER_YEAR, len(df)), random_state=42)\n",
        "\n",
        "        for _, row in df_sample.iterrows():\n",
        "            text = row.get(\"text\", \"\")\n",
        "            found_terms = regex.findall(text)\n",
        "            term_counter.update([t.lower() for t in found_terms])\n",
        "            samples.append({\n",
        "                \"year\": year,\n",
        "                \"text\": text,\n",
        "                \"terms_detected\": \", \".join(set(found_terms))\n",
        "            })\n",
        "\n",
        "    except Exception as e:\n",
        "        print(f\"[✖] Error reading {file_path}: {e}\")\n",
        "        continue\n",
        "\n",
        "# -------------------------------\n",
        "# SAVE OUTPUTS\n",
        "# -------------------------------\n",
        "print(\"💾 Saving semantic validation sample...\")\n",
        "pd.DataFrame(samples).to_csv(OUTPUT_SAMPLE, index=False)\n",
        "\n",
        "print(\"📈 Saving keyword frequency table...\")\n",
        "pd.DataFrame(term_counter.most_common(), columns=[\"term\", \"count\"]).to_csv(OUTPUT_TERMS, index=False)\n",
        "\n",
        "print(\"✅ Block 2 complete — samples and term frequencies saved.\")"
      ]
    },
    {
      "cell_type": "code",
      "execution_count": null,
      "id": "02d7583b-9073-4e3a-8935-f69ba953a155",
      "metadata": {
        "id": "02d7583b-9073-4e3a-8935-f69ba953a155"
      },
      "outputs": [],
      "source": [
        "##🔹 Block 2B — Output Quality Check & Tweet Counts"
      ]
    },
    {
      "cell_type": "code",
      "execution_count": null,
      "id": "9fa52bae-d336-456f-9da2-4eb972d8779b",
      "metadata": {
        "id": "9fa52bae-d336-456f-9da2-4eb972d8779b",
        "outputId": "e68a83dc-4756-469e-a60c-2f531a40f6db"
      },
      "outputs": [
        {
          "name": "stdout",
          "output_type": "stream",
          "text": [
            "🔍 Sample semantic validation preview:\n",
            "   year                                               text terms_detected\n",
            "0  2011  @nickcicero Are you the Recruiter for the Soci...            NaN\n",
            "1  2011  Why am I watching #TheDoctors??? Coz he's sooo...            NaN\n",
            "2  2011  I remember freshmen year unasked Darquell was ...            NaN\n",
            "3  2011  Can anyone ever answer this question honestly?...            NaN\n",
            "4  2011  \"@DontQustionMARK: #2011Memory cheating on my ...            NaN\n",
            "5  2011  @rey_z already in bed, listening to Simon and ...      philosoph\n",
            "6  2011  Been a while but food as great as always and a...            NaN\n",
            "7  2012  @twoLittleBeans You might regret the sandals d...            NaN\n",
            "8  2012  In Humphrey, church street is the only place y...            NaN\n",
            "9  2012  When people question their relationship«««««««...            NaN\n",
            "\n",
            "📊 Most common terms in sample:\n",
            "terms_detected\n",
            "philosoph    12\n",
            "Philosoph     9\n",
            "Cosmop        6\n",
            "Seneca        5\n",
            "plato         4\n",
            "Zeno          3\n",
            "Aristot       2\n",
            "Plato         2\n",
            "SENECA        2\n",
            "cosmop        2\n",
            "Name: count, dtype: int64\n",
            "\n",
            "🔢 Counting total valid tweets and per year...\n"
          ]
        },
        {
          "name": "stderr",
          "output_type": "stream",
          "text": [
            "100%|██████████| 13/13 [03:44<00:00, 17.30s/it]"
          ]
        },
        {
          "name": "stdout",
          "output_type": "stream",
          "text": [
            "\n",
            "✅ Total valid tweets (2011–2023): 23,363,471\n",
            "\n",
            "📅 Valid tweets per year:\n",
            "  2011: 7\n",
            "  2012: 15,477\n",
            "  2013: 2,275,876\n",
            "  2014: 3,798,579\n",
            "  2015: 1,426,121\n",
            "  2016: 282,094\n",
            "  2017: 402,592\n",
            "  2018: 1,555,429\n",
            "  2019: 4,055,232\n",
            "  2020: 3,809,219\n",
            "  2021: 2,399,420\n",
            "  2022: 2,604,242\n",
            "  2023: 739,183\n",
            "\n",
            "🌍 Top 10 most frequent 'place' or 'user_location' values:\n",
            "  Los Angeles, CA: 247,032\n",
            "  Manhattan, NY: 178,385\n",
            "  Chicago, IL: 141,838\n",
            "  Houston, TX: 135,269\n",
            "  : 128,423\n",
            "  Florida, USA: 126,339\n",
            "  Georgia, USA: 113,738\n",
            "  Toronto, Ontario: 111,506\n",
            "  Brooklyn, NY: 109,089\n",
            "  Riyadh, Kingdom of Saudi Arabia: 93,928\n"
          ]
        },
        {
          "name": "stderr",
          "output_type": "stream",
          "text": [
            "\n"
          ]
        }
      ],
      "source": [
        "import os\n",
        "import pandas as pd\n",
        "from collections import Counter\n",
        "from tqdm import tqdm\n",
        "\n",
        "# -------------------------------\n",
        "# CONFIGURATION\n",
        "# -------------------------------\n",
        "INPUT_FOLDER = \"/n/netscratch/cga/Lab/rpalbuquerque/stoicism_v2/filtered_tweets_by_year/\"\n",
        "YEARS = list(range(2011, 2024))  # Exclui 2010\n",
        "SAMPLE_FILE = \"/n/netscratch/cga/Lab/rpalbuquerque/stoicism_v3/sample_semantic_validation.csv\"\n",
        "\n",
        "# -------------------------------\n",
        "# 1. VISUAL CHECK: AMOSTRAS\n",
        "# -------------------------------\n",
        "print(\"🔍 Sample semantic validation preview:\")\n",
        "try:\n",
        "    df_sample = pd.read_csv(SAMPLE_FILE)\n",
        "    print(df_sample.head(10))\n",
        "    unique_terms = df_sample[\"terms_detected\"].str.split(\",\").explode().str.strip().value_counts()\n",
        "    print(\"\\n📊 Most common terms in sample:\")\n",
        "    print(unique_terms.head(10))\n",
        "except Exception as e:\n",
        "    print(f\"[✖] Could not load sample file: {e}\")\n",
        "\n",
        "# -------------------------------\n",
        "# 2. COUNT TOTAL VALID TWEETS\n",
        "# -------------------------------\n",
        "total_valid = 0\n",
        "tweets_by_year = {}\n",
        "tweets_by_country = Counter()\n",
        "\n",
        "print(\"\\n🔢 Counting total valid tweets and per year...\")\n",
        "for year in tqdm(YEARS):\n",
        "    file_path = os.path.join(INPUT_FOLDER, f\"filtered_tweets_{year}.csv.gz\")\n",
        "    if not os.path.exists(file_path) or os.path.getsize(file_path) == 0:\n",
        "        continue\n",
        "\n",
        "    try:\n",
        "        df = pd.read_csv(file_path, sep=\",\", dtype=str, on_bad_lines=\"skip\")\n",
        "        n = len(df)\n",
        "        tweets_by_year[year] = n\n",
        "        total_valid += n\n",
        "\n",
        "        # Contagem por país simples (via 'place' ou 'user_location')\n",
        "        if \"place\" in df.columns:\n",
        "            tweets_by_country.update(df[\"place\"].dropna().str.strip())\n",
        "        elif \"user_location\" in df.columns:\n",
        "            tweets_by_country.update(df[\"user_location\"].dropna().str.strip())\n",
        "\n",
        "    except Exception as e:\n",
        "        print(f\"[⚠] Error in {year}: {e}\")\n",
        "\n",
        "# -------------------------------\n",
        "# 3. PRINT SUMMARY\n",
        "# -------------------------------\n",
        "print(\"\\n✅ Total valid tweets (2011–2023): {:,}\".format(total_valid))\n",
        "print(\"\\n📅 Valid tweets per year:\")\n",
        "for y in sorted(tweets_by_year):\n",
        "    print(f\"  {y}: {tweets_by_year[y]:,}\")\n",
        "\n",
        "# (Opcional) Top countries from location fields\n",
        "print(\"\\n🌍 Top 10 most frequent 'place' or 'user_location' values:\")\n",
        "for country, count in tweets_by_country.most_common(10):\n",
        "    print(f\"  {country}: {count:,}\")"
      ]
    },
    {
      "cell_type": "code",
      "execution_count": null,
      "id": "485bc290-4316-45e6-b560-b9bf123e0df2",
      "metadata": {
        "id": "485bc290-4316-45e6-b560-b9bf123e0df2"
      },
      "outputs": [],
      "source": [
        "##🔹 Block 2C — Semantic Cleaning & Recounting"
      ]
    },
    {
      "cell_type": "code",
      "execution_count": null,
      "id": "d4df889d-72cd-4902-b2b0-32b2fadaec93",
      "metadata": {
        "id": "d4df889d-72cd-4902-b2b0-32b2fadaec93",
        "outputId": "dbc39297-39db-4744-ea97-0c97b2aa58e3"
      },
      "outputs": [
        {
          "name": "stdout",
          "output_type": "stream",
          "text": [
            "🔍 Loading semantic sample...\n",
            "✅ Semantic valid tweets: 59 of 607 total\n",
            "💾 Saving cleaned sample to:\n",
            "→ /n/netscratch/cga/Lab/rpalbuquerque/stoicism_v3/sample_semantic_validation_clean.csv\n",
            "📈 Saving term frequencies to:\n",
            "→ /n/netscratch/cga/Lab/rpalbuquerque/stoicism_v3/keyword_frequencies_clean.csv\n",
            "✅ Block 2C complete — cleaned data and term frequencies saved.\n"
          ]
        }
      ],
      "source": [
        "import pandas as pd\n",
        "from collections import Counter\n",
        "\n",
        "# -------------------------------\n",
        "# CONFIGURATION\n",
        "# -------------------------------\n",
        "INPUT_SAMPLE = \"/n/netscratch/cga/Lab/rpalbuquerque/stoicism_v3/sample_semantic_validation.csv\"\n",
        "OUTPUT_SAMPLE_CLEAN = \"/n/netscratch/cga/Lab/rpalbuquerque/stoicism_v3/sample_semantic_validation_clean.csv\"\n",
        "OUTPUT_TERMS_CLEAN = \"/n/netscratch/cga/Lab/rpalbuquerque/stoicism_v3/keyword_frequencies_clean.csv\"\n",
        "\n",
        "# -------------------------------\n",
        "# LOAD AND CLEAN\n",
        "# -------------------------------\n",
        "print(\"🔍 Loading semantic sample...\")\n",
        "df = pd.read_csv(INPUT_SAMPLE)\n",
        "\n",
        "# Filter only rows with non-empty 'terms_detected'\n",
        "df_clean = df[df[\"terms_detected\"].notnull() & (df[\"terms_detected\"].str.strip() != \"\")]\n",
        "print(f\"✅ Semantic valid tweets: {len(df_clean):,} of {len(df):,} total\")\n",
        "\n",
        "# -------------------------------\n",
        "# COUNT VALID TERMS ONLY\n",
        "# -------------------------------\n",
        "term_counter = Counter()\n",
        "for entry in df_clean[\"terms_detected\"]:\n",
        "    terms = [t.strip().lower() for t in entry.split(\",\") if t.strip()]\n",
        "    term_counter.update(terms)\n",
        "\n",
        "# -------------------------------\n",
        "# SAVE CLEAN OUTPUTS\n",
        "# -------------------------------\n",
        "print(\"💾 Saving cleaned sample to:\")\n",
        "print(f\"→ {OUTPUT_SAMPLE_CLEAN}\")\n",
        "df_clean.to_csv(OUTPUT_SAMPLE_CLEAN, index=False)\n",
        "\n",
        "print(\"📈 Saving term frequencies to:\")\n",
        "print(f\"→ {OUTPUT_TERMS_CLEAN}\")\n",
        "df_terms = pd.DataFrame(term_counter.most_common(), columns=[\"term\", \"count\"])\n",
        "df_terms.to_csv(OUTPUT_TERMS_CLEAN, index=False)\n",
        "\n",
        "print(\"✅ Block 2C complete — cleaned data and term frequencies saved.\")"
      ]
    },
    {
      "cell_type": "code",
      "execution_count": null,
      "id": "8b5c37a3-0a88-4227-8cb6-ad3158df6904",
      "metadata": {
        "id": "8b5c37a3-0a88-4227-8cb6-ad3158df6904"
      },
      "outputs": [],
      "source": [
        "## Block 2D — Full Semantic Validation (v3.4)"
      ]
    },
    {
      "cell_type": "code",
      "execution_count": null,
      "id": "90e2e9d3-906c-4cdf-a1c2-443486d05092",
      "metadata": {
        "id": "90e2e9d3-906c-4cdf-a1c2-443486d05092",
        "outputId": "49c73f39-6d42-4c36-d830-36fe85aa47a8"
      },
      "outputs": [
        {
          "name": "stdout",
          "output_type": "stream",
          "text": [
            "🚀 Starting semantic validation using 64 cores...\n"
          ]
        },
        {
          "name": "stderr",
          "output_type": "stream",
          "text": [
            "100%|██████████| 13/13 [02:42<00:00, 12.48s/it]\n"
          ]
        },
        {
          "name": "stdout",
          "output_type": "stream",
          "text": [
            "\n",
            "✅ Block 2D complete — clean datasets and term frequencies saved.\n"
          ]
        }
      ],
      "source": [
        "import os\n",
        "import re\n",
        "import pandas as pd\n",
        "from multiprocessing import Pool\n",
        "from collections import Counter\n",
        "from tqdm import tqdm\n",
        "\n",
        "# -------------------------------\n",
        "# CONFIGURATION\n",
        "# -------------------------------\n",
        "INPUT_FOLDER = \"/n/netscratch/cga/Lab/rpalbuquerque/stoicism_v2/filtered_tweets_by_year/\"\n",
        "OUTPUT_FOLDER = \"/n/netscratch/cga/Lab/rpalbuquerque/stoicism_v3/\"\n",
        "YEARS = list(range(2011, 2024))\n",
        "NUM_CORES = 64\n",
        "keywords = [\n",
        "    \"altrui\", \"aristot\", \"cosmop\", \"epictet\", \"epicur\", \"eudaimon\", \"hedon\", \"philosoph\",\n",
        "    \"plato\", \"pythago\", \"socrat\", \"stioc\", \"stoic\", \"amorfati\", \"aurelius\", \"chrysippus\",\n",
        "    \"cicero\", \"cleanthes\", \"commongood\", \"dichotomyofcontrol\", \"diogenes\", \"hadot\",\n",
        "    \"humandignity\", \"humanworth\", \"jordanpeterson\", \"mattis\", \"mementomori\",\n",
        "    \"moralinjury\", \"moralaction\", \"moralprogress\", \"moralpurpose\", \"musoniusrufus\",\n",
        "    \"nussbaum\", \"peripatetic\", \"pigliucci\", \"ryanholiday\", \"seneca\", \"stockdale\",\n",
        "    \"timferriss\", \"zeno\"\n",
        "]\n",
        "regex = re.compile(r\"\\b(\" + \"|\".join(keywords) + r\")\\w*\\b\", re.IGNORECASE)\n",
        "term_counter = Counter()\n",
        "\n",
        "# -------------------------------\n",
        "# FUNCTION TO PROCESS A SINGLE YEAR\n",
        "# -------------------------------\n",
        "def process_year(year):\n",
        "    input_file = os.path.join(INPUT_FOLDER, f\"filtered_tweets_{year}.csv.gz\")\n",
        "    output_file = os.path.join(OUTPUT_FOLDER, f\"filtered_semantic_valid_{year}.csv.gz\")\n",
        "\n",
        "    if not os.path.exists(input_file) or os.path.getsize(input_file) == 0:\n",
        "        return (year, 0, Counter())\n",
        "\n",
        "    try:\n",
        "        df = pd.read_csv(input_file, sep=\",\", dtype=str, on_bad_lines=\"skip\")\n",
        "        if df.empty or \"text\" not in df.columns:\n",
        "            return (year, 0, Counter())\n",
        "\n",
        "        # Apply regex to each row\n",
        "        terms_detected = df[\"text\"].fillna(\"\").apply(lambda x: regex.findall(x))\n",
        "        df[\"terms_detected\"] = terms_detected\n",
        "        df_valid = df[terms_detected.apply(lambda lst: len(lst) > 0)]\n",
        "\n",
        "        # Normalize terms\n",
        "        terms_flat = [t.strip().lower() for sublist in df_valid[\"terms_detected\"] for t in sublist if t.strip()]\n",
        "        local_counter = Counter(terms_flat)\n",
        "\n",
        "        # Save valid subset\n",
        "        df_valid.to_csv(output_file, index=False, compression=\"gzip\")\n",
        "\n",
        "        return (year, len(df_valid), local_counter)\n",
        "\n",
        "    except Exception as e:\n",
        "        print(f\"[✖] Error processing {year}: {e}\")\n",
        "        return (year, 0, Counter())\n",
        "\n",
        "# -------------------------------\n",
        "# MAIN MULTIPROCESSING LOOP\n",
        "# -------------------------------\n",
        "def main():\n",
        "    os.makedirs(OUTPUT_FOLDER, exist_ok=True)\n",
        "    print(f\"🚀 Starting semantic validation using {NUM_CORES} cores...\")\n",
        "\n",
        "    with Pool(processes=NUM_CORES) as pool:\n",
        "        results = list(tqdm(pool.imap(process_year, YEARS), total=len(YEARS)))\n",
        "\n",
        "    total_valid = 0\n",
        "    df_summary = []\n",
        "\n",
        "    for year, count, local_counter in results:\n",
        "        if count > 0:\n",
        "            df_summary.append({\"year\": year, \"valid_tweets\": count})\n",
        "            term_counter.update(local_counter)\n",
        "\n",
        "    # Save summary\n",
        "    df_summary = pd.DataFrame(df_summary)\n",
        "    df_summary.to_csv(os.path.join(OUTPUT_FOLDER, \"semantic_validation_summary.csv\"), index=False)\n",
        "\n",
        "    # Save global term frequency\n",
        "    df_terms = pd.DataFrame(term_counter.most_common(), columns=[\"term\", \"count\"])\n",
        "    df_terms.to_csv(os.path.join(OUTPUT_FOLDER, \"semantic_term_frequencies_full.csv\"), index=False)\n",
        "\n",
        "    print(\"\\n✅ Block 2D complete — clean datasets and term frequencies saved.\")\n",
        "\n",
        "if __name__ == \"__main__\":\n",
        "    main()"
      ]
    },
    {
      "cell_type": "code",
      "execution_count": null,
      "id": "f65b97e7-39b5-494e-b436-cecde44bade6",
      "metadata": {
        "id": "f65b97e7-39b5-494e-b436-cecde44bade6"
      },
      "outputs": [],
      "source": [
        "##✅ Block 2E — Quality Check da base final (v3.5)"
      ]
    },
    {
      "cell_type": "code",
      "execution_count": null,
      "id": "65508840-a228-430a-8064-4c72709928de",
      "metadata": {
        "id": "65508840-a228-430a-8064-4c72709928de",
        "outputId": "1358abe6-77b0-485c-bc0a-3d782329992b"
      },
      "outputs": [
        {
          "name": "stdout",
          "output_type": "stream",
          "text": [
            "🔍 Starting final semantic quality check...\n"
          ]
        },
        {
          "name": "stderr",
          "output_type": "stream",
          "text": [
            "100%|██████████| 13/13 [00:17<00:00,  1.33s/it]"
          ]
        },
        {
          "name": "stdout",
          "output_type": "stream",
          "text": [
            "\n",
            "✅ Total semantic-valid tweets (2011–2023): 1,734,056\n",
            "\n",
            "📅 Semantic-valid tweets per year:\n",
            "  2011: 1\n",
            "  2012: 1,311\n",
            "  2013: 150,628\n",
            "  2014: 295,149\n",
            "  2015: 130,850\n",
            "  2016: 31,695\n",
            "  2017: 50,980\n",
            "  2018: 124,280\n",
            "  2019: 265,253\n",
            "  2020: 228,907\n",
            "  2021: 169,404\n",
            "  2022: 234,148\n",
            "  2023: 51,450\n",
            "\n",
            "🌍 Top 15 most frequent 'place' or 'user_location' values:\n",
            "  Riyadh, Kingdom of Saudi Arabia: 53,239\n",
            "  8fa6d7a33b83ef26: 27,874\n",
            "  Los Angeles, CA: 16,817\n",
            "  Manhattan, NY: 13,557\n",
            "  الرياض, المملكة العربية السعودية: 12,008\n",
            "  Chicago, IL: 9,824\n",
            "  New York, USA: 9,233\n",
            "  Toronto, Ontario: 8,331\n",
            "  Florida, USA: 8,118\n",
            "  Paradise, NV: 7,264\n",
            "  : 7,001\n",
            "  Brooklyn, NY: 6,791\n",
            "  Paradise; NV: 6,787\n",
            "  West Seneca, NY: 6,270\n",
            "  Melbourne, Victoria: 5,838\n"
          ]
        },
        {
          "name": "stderr",
          "output_type": "stream",
          "text": [
            "\n"
          ]
        }
      ],
      "source": [
        "import os\n",
        "import pandas as pd\n",
        "from collections import Counter\n",
        "from tqdm import tqdm\n",
        "\n",
        "# -------------------------------\n",
        "# CONFIGURATION\n",
        "# -------------------------------\n",
        "INPUT_FOLDER = \"/n/netscratch/cga/Lab/rpalbuquerque/stoicism_v3/\"\n",
        "YEARS = list(range(2011, 2024))\n",
        "tweets_by_year = {}\n",
        "tweets_by_country = Counter()\n",
        "total_valid = 0\n",
        "\n",
        "# -------------------------------\n",
        "# QUALITY CHECK\n",
        "# -------------------------------\n",
        "print(\"🔍 Starting final semantic quality check...\")\n",
        "\n",
        "for year in tqdm(YEARS):\n",
        "    file_path = os.path.join(INPUT_FOLDER, f\"filtered_semantic_valid_{year}.csv.gz\")\n",
        "    if not os.path.exists(file_path) or os.path.getsize(file_path) == 0:\n",
        "        print(f\"[⚠] File missing or empty: {file_path}\")\n",
        "        continue\n",
        "\n",
        "    try:\n",
        "        df = pd.read_csv(file_path, dtype=str, on_bad_lines=\"skip\")\n",
        "        n = len(df)\n",
        "        tweets_by_year[year] = n\n",
        "        total_valid += n\n",
        "\n",
        "        # Contagem de país (place ou user_location)\n",
        "        if \"place\" in df.columns:\n",
        "            tweets_by_country.update(df[\"place\"].dropna().str.strip())\n",
        "        elif \"user_location\" in df.columns:\n",
        "            tweets_by_country.update(df[\"user_location\"].dropna().str.strip())\n",
        "\n",
        "    except Exception as e:\n",
        "        print(f\"[✖] Error reading {file_path}: {e}\")\n",
        "\n",
        "# -------------------------------\n",
        "# OUTPUT RESULTS\n",
        "# -------------------------------\n",
        "print(f\"\\n✅ Total semantic-valid tweets (2011–2023): {total_valid:,}\\n\")\n",
        "\n",
        "print(\"📅 Semantic-valid tweets per year:\")\n",
        "for y in sorted(tweets_by_year):\n",
        "    print(f\"  {y}: {tweets_by_year[y]:,}\")\n",
        "\n",
        "print(\"\\n🌍 Top 15 most frequent 'place' or 'user_location' values:\")\n",
        "for country, count in tweets_by_country.most_common(15):\n",
        "    print(f\"  {country}: {count:,}\")"
      ]
    },
    {
      "cell_type": "code",
      "execution_count": null,
      "id": "20233aa3-5f3f-468c-a530-08c33e880d8e",
      "metadata": {
        "id": "20233aa3-5f3f-468c-a530-08c33e880d8e"
      },
      "outputs": [],
      "source": [
        "##✅ Block 2F — Geomaping by Latitude/Longitude (v3.6)"
      ]
    },
    {
      "cell_type": "code",
      "execution_count": null,
      "id": "cbfb3a94-2526-42a8-bd5e-4d4a361f448d",
      "metadata": {
        "id": "cbfb3a94-2526-42a8-bd5e-4d4a361f448d",
        "outputId": "758a8aa7-5a69-4e93-867e-6d2efbab38b8"
      },
      "outputs": [
        {
          "name": "stdout",
          "output_type": "stream",
          "text": [
            "🌍 Loading country centroids from GitHub...\n"
          ]
        },
        {
          "name": "stderr",
          "output_type": "stream",
          "text": [
            " 15%|█▌        | 2/13 [00:00<00:01, 10.00it/s]"
          ]
        },
        {
          "name": "stdout",
          "output_type": "stream",
          "text": [
            "🌐 Mapping countries for 2011 (1 tweets)...\n",
            "✅ 1 tweets mapped in 2011\n",
            "🌐 Mapping countries for 2012 (1,311 tweets)...\n",
            "✅ 1,311 tweets mapped in 2012\n",
            "🌐 Mapping countries for 2013 (150,608 tweets)...\n"
          ]
        },
        {
          "name": "stderr",
          "output_type": "stream",
          "text": [
            " 23%|██▎       | 3/13 [00:17<01:11,  7.12s/it]"
          ]
        },
        {
          "name": "stdout",
          "output_type": "stream",
          "text": [
            "✅ 150,608 tweets mapped in 2013\n",
            "🌐 Mapping countries for 2014 (295,133 tweets)...\n"
          ]
        },
        {
          "name": "stderr",
          "output_type": "stream",
          "text": [
            " 31%|███       | 4/13 [00:50<02:31, 16.83s/it]"
          ]
        },
        {
          "name": "stdout",
          "output_type": "stream",
          "text": [
            "✅ 295,133 tweets mapped in 2014\n",
            "🌐 Mapping countries for 2015 (130,815 tweets)...\n"
          ]
        },
        {
          "name": "stderr",
          "output_type": "stream",
          "text": [
            " 38%|███▊      | 5/13 [01:05<02:08, 16.10s/it]"
          ]
        },
        {
          "name": "stdout",
          "output_type": "stream",
          "text": [
            "✅ 130,815 tweets mapped in 2015\n",
            "🌐 Mapping countries for 2016 (31,679 tweets)...\n"
          ]
        },
        {
          "name": "stderr",
          "output_type": "stream",
          "text": [
            " 46%|████▌     | 6/13 [01:08<01:23, 11.94s/it]"
          ]
        },
        {
          "name": "stdout",
          "output_type": "stream",
          "text": [
            "✅ 31,679 tweets mapped in 2016\n",
            "🌐 Mapping countries for 2017 (50,974 tweets)...\n"
          ]
        },
        {
          "name": "stderr",
          "output_type": "stream",
          "text": [
            " 54%|█████▍    | 7/13 [01:14<00:59,  9.87s/it]"
          ]
        },
        {
          "name": "stdout",
          "output_type": "stream",
          "text": [
            "✅ 50,974 tweets mapped in 2017\n",
            "🌐 Mapping countries for 2018 (124,274 tweets)...\n"
          ]
        },
        {
          "name": "stderr",
          "output_type": "stream",
          "text": [
            " 62%|██████▏   | 8/13 [01:29<00:57, 11.49s/it]"
          ]
        },
        {
          "name": "stdout",
          "output_type": "stream",
          "text": [
            "✅ 124,274 tweets mapped in 2018\n",
            "🌐 Mapping countries for 2019 (265,251 tweets)...\n"
          ]
        },
        {
          "name": "stderr",
          "output_type": "stream",
          "text": [
            " 69%|██████▉   | 9/13 [02:02<01:12, 18.15s/it]"
          ]
        },
        {
          "name": "stdout",
          "output_type": "stream",
          "text": [
            "✅ 265,251 tweets mapped in 2019\n",
            "🌐 Mapping countries for 2020 (228,906 tweets)...\n"
          ]
        },
        {
          "name": "stderr",
          "output_type": "stream",
          "text": [
            " 77%|███████▋  | 10/13 [02:30<01:03, 21.27s/it]"
          ]
        },
        {
          "name": "stdout",
          "output_type": "stream",
          "text": [
            "✅ 228,906 tweets mapped in 2020\n",
            "🌐 Mapping countries for 2021 (169,401 tweets)...\n"
          ]
        },
        {
          "name": "stderr",
          "output_type": "stream",
          "text": [
            " 85%|████████▍ | 11/13 [02:51<00:42, 21.19s/it]"
          ]
        },
        {
          "name": "stdout",
          "output_type": "stream",
          "text": [
            "✅ 169,401 tweets mapped in 2021\n",
            "🌐 Mapping countries for 2022 (234,147 tweets)...\n"
          ]
        },
        {
          "name": "stderr",
          "output_type": "stream",
          "text": [
            " 92%|█████████▏| 12/13 [03:19<00:23, 23.17s/it]"
          ]
        },
        {
          "name": "stdout",
          "output_type": "stream",
          "text": [
            "✅ 234,147 tweets mapped in 2022\n",
            "🌐 Mapping countries for 2023 (51,449 tweets)...\n"
          ]
        },
        {
          "name": "stderr",
          "output_type": "stream",
          "text": [
            "100%|██████████| 13/13 [03:25<00:00, 15.80s/it]"
          ]
        },
        {
          "name": "stdout",
          "output_type": "stream",
          "text": [
            "✅ 51,449 tweets mapped in 2023\n",
            "\n",
            "💾 Saving country-level tweet count...\n",
            "✅ Block 2F complete — tweets mapped by country and counts saved.\n"
          ]
        },
        {
          "name": "stderr",
          "output_type": "stream",
          "text": [
            "\n"
          ]
        }
      ],
      "source": [
        "import os\n",
        "import pandas as pd\n",
        "import numpy as np\n",
        "from sklearn.neighbors import KDTree\n",
        "from tqdm import tqdm\n",
        "from collections import Counter\n",
        "\n",
        "# -------------------------------\n",
        "# CONFIGURATION\n",
        "# -------------------------------\n",
        "TWEETS_FOLDER = \"/n/netscratch/cga/Lab/rpalbuquerque/stoicism_v3/\"\n",
        "COUNTRY_URL = \"https://raw.githubusercontent.com/albertyw/avenews/refs/heads/master/old/data/average-latitude-longitude-countries.csv\"\n",
        "OUTPUT_COUNTRY_COUNT = os.path.join(TWEETS_FOLDER, \"semantic_valid_tweet_count_by_country.csv\")\n",
        "YEARS = list(range(2011, 2024))\n",
        "\n",
        "# -------------------------------\n",
        "# LOAD COUNTRY CENTROIDS\n",
        "# -------------------------------\n",
        "print(\"🌍 Loading country centroids from GitHub...\")\n",
        "df_countries = pd.read_csv(COUNTRY_URL)\n",
        "df_countries.columns = df_countries.columns.str.strip().str.lower()\n",
        "\n",
        "coords = df_countries[[\"latitude\", \"longitude\"]].to_numpy()\n",
        "country_names = df_countries[\"country\"].tolist()\n",
        "kdtree = KDTree(np.radians(coords))  # use radians for geodesic proximity\n",
        "\n",
        "# -------------------------------\n",
        "# FUNCTION TO MAP LAT/LON → COUNTRY\n",
        "# -------------------------------\n",
        "def map_country(lat, lon):\n",
        "    try:\n",
        "        point_rad = np.radians([[lat, lon]])\n",
        "        dist, idx = kdtree.query(point_rad, k=1)\n",
        "        return country_names[idx[0][0]]\n",
        "    except:\n",
        "        return None\n",
        "\n",
        "# -------------------------------\n",
        "# PROCESS EACH FILE\n",
        "# -------------------------------\n",
        "country_counter = Counter()\n",
        "\n",
        "for year in tqdm(YEARS):\n",
        "    file_path = os.path.join(TWEETS_FOLDER, f\"filtered_semantic_valid_{year}.csv.gz\")\n",
        "    output_path = os.path.join(TWEETS_FOLDER, f\"mapped_semantic_valid_{year}.csv.gz\")\n",
        "\n",
        "    if not os.path.exists(file_path) or os.path.getsize(file_path) == 0:\n",
        "        continue\n",
        "\n",
        "    try:\n",
        "        df = pd.read_csv(file_path, dtype=str, on_bad_lines=\"skip\")\n",
        "        df = df[[\"message_id\", \"text\", \"latitude\", \"longitude\"] + [col for col in df.columns if col not in [\"message_id\", \"text\", \"latitude\", \"longitude\"]]]\n",
        "\n",
        "        # Convert lat/lon to float and drop invalid rows\n",
        "        df[\"latitude\"] = pd.to_numeric(df[\"latitude\"], errors=\"coerce\")\n",
        "        df[\"longitude\"] = pd.to_numeric(df[\"longitude\"], errors=\"coerce\")\n",
        "        df = df.dropna(subset=[\"latitude\", \"longitude\"])\n",
        "\n",
        "        # Map countries\n",
        "        print(f\"🌐 Mapping countries for {year} ({len(df):,} tweets)...\")\n",
        "        df[\"country\"] = df[[\"latitude\", \"longitude\"]].apply(lambda row: map_country(row[\"latitude\"], row[\"longitude\"]), axis=1)\n",
        "\n",
        "        # Count and save\n",
        "        df_valid = df[df[\"country\"].notnull()]\n",
        "        df_valid.to_csv(output_path, index=False, compression=\"gzip\")\n",
        "        country_counter.update(df_valid[\"country\"])\n",
        "\n",
        "        print(f\"✅ {len(df_valid):,} tweets mapped in {year}\")\n",
        "\n",
        "    except Exception as e:\n",
        "        print(f\"[✖] Error processing {year}: {e}\")\n",
        "\n",
        "# -------------------------------\n",
        "# SAVE COUNTRY COUNTS\n",
        "# -------------------------------\n",
        "print(\"\\n💾 Saving country-level tweet count...\")\n",
        "df_country = pd.DataFrame(country_counter.most_common(), columns=[\"country\", \"tweet_count\"])\n",
        "df_country.to_csv(OUTPUT_COUNTRY_COUNT, index=False)\n",
        "\n",
        "print(\"✅ Block 2F complete — tweets mapped by country and counts saved.\")"
      ]
    },
    {
      "cell_type": "code",
      "execution_count": null,
      "id": "b2991703-2ebc-4811-94f2-181c5000ea72",
      "metadata": {
        "id": "b2991703-2ebc-4811-94f2-181c5000ea72"
      },
      "outputs": [],
      "source": [
        "##🔹 Block 3 — Temporal and Geographical Analysis of Semantic Stoicism Tweets"
      ]
    },
    {
      "cell_type": "code",
      "execution_count": null,
      "id": "7f2741a9-ad0a-4779-b611-ae26bc058e66",
      "metadata": {
        "id": "7f2741a9-ad0a-4779-b611-ae26bc058e66",
        "outputId": "7504c156-8745-4031-d488-80867a56e10d"
      },
      "outputs": [
        {
          "name": "stdout",
          "output_type": "stream",
          "text": [
            "📂 Carregando arquivos de contagem...\n",
            "✅ Gráfico: tweets_per_year.png\n",
            "✅ Gráfico: top_countries.png\n",
            "\n",
            "📊 Total semantic-valid tweets: 1,733,949\n",
            "🌍 Top 5 countries:\n",
            "       country  tweet_count\n",
            " United States       443134\n",
            "       Bermuda       270211\n",
            "United Kingdom       164864\n",
            "        Mexico       137252\n",
            "       Bahamas       104569\n",
            "📁 Arquivos gerados em: /n/netscratch/cga/Lab/rpalbuquerque/stoicism_v3/plots/\n"
          ]
        }
      ],
      "source": [
        "import os\n",
        "import pandas as pd\n",
        "import matplotlib.pyplot as plt\n",
        "\n",
        "# -------------------------------\n",
        "# CONFIGURATION\n",
        "# -------------------------------\n",
        "TWEET_FOLDER = \"/n/netscratch/cga/Lab/rpalbuquerque/stoicism_v3/\"\n",
        "FILE_YEARLY = \"semantic_validation_summary.csv\"\n",
        "FILE_COUNTRY = \"semantic_valid_tweet_count_by_country.csv\"\n",
        "OUTPUT_COUNTRY_RANK = os.path.join(TWEET_FOLDER, \"top_30_countries.csv\")\n",
        "OUTPUT_PLOTS = os.path.join(TWEET_FOLDER, \"plots/\")\n",
        "os.makedirs(OUTPUT_PLOTS, exist_ok=True)\n",
        "\n",
        "# -------------------------------\n",
        "# LOAD DATA\n",
        "# -------------------------------\n",
        "print(\"📂 Carregando arquivos de contagem...\")\n",
        "df_year = pd.read_csv(os.path.join(TWEET_FOLDER, FILE_YEARLY))\n",
        "df_country = pd.read_csv(os.path.join(TWEET_FOLDER, FILE_COUNTRY))\n",
        "\n",
        "# -------------------------------\n",
        "# PLOT 1 — TWEETS POR ANO\n",
        "# -------------------------------\n",
        "plt.figure(figsize=(10, 5))\n",
        "plt.bar(df_year[\"year\"], df_year[\"valid_tweets\"], color=\"skyblue\")\n",
        "plt.title(\"Semantic Stoicism Tweets per Year\")\n",
        "plt.xlabel(\"Year\")\n",
        "plt.ylabel(\"Number of Tweets\")\n",
        "plt.xticks(df_year[\"year\"], rotation=45)\n",
        "plt.tight_layout()\n",
        "plt.savefig(os.path.join(OUTPUT_PLOTS, \"tweets_per_year.png\"))\n",
        "plt.close()\n",
        "print(\"✅ Gráfico: tweets_per_year.png\")\n",
        "\n",
        "# -------------------------------\n",
        "# PLOT 2 — TOP 30 PAÍSES\n",
        "# -------------------------------\n",
        "df_top_countries = df_country.head(30)\n",
        "df_top_countries.to_csv(OUTPUT_COUNTRY_RANK, index=False)\n",
        "\n",
        "plt.figure(figsize=(10, 8))\n",
        "plt.barh(df_top_countries[\"country\"][::-1], df_top_countries[\"tweet_count\"][::-1], color=\"seagreen\")\n",
        "plt.title(\"Top 30 Countries by Semantic Stoicism Tweets\")\n",
        "plt.xlabel(\"Number of Tweets\")\n",
        "plt.ylabel(\"Country\")\n",
        "plt.tight_layout()\n",
        "plt.savefig(os.path.join(OUTPUT_PLOTS, \"top_countries.png\"))\n",
        "plt.close()\n",
        "print(\"✅ Gráfico: top_countries.png\")\n",
        "\n",
        "# -------------------------------\n",
        "# RESUMO\n",
        "# -------------------------------\n",
        "total_tweets = df_country[\"tweet_count\"].sum()\n",
        "print(f\"\\n📊 Total semantic-valid tweets: {total_tweets:,}\")\n",
        "print(f\"🌍 Top 5 countries:\\n{df_top_countries.head(5).to_string(index=False)}\")\n",
        "print(\"📁 Arquivos gerados em:\", OUTPUT_PLOTS)"
      ]
    },
    {
      "cell_type": "code",
      "execution_count": null,
      "id": "7918dfdc-b0f2-4552-999e-4c9be15a517c",
      "metadata": {
        "id": "7918dfdc-b0f2-4552-999e-4c9be15a517c"
      },
      "outputs": [],
      "source": [
        "##✅ Block 4 — Interactive Global Heatmap of Stoicism-Related Tweets"
      ]
    },
    {
      "cell_type": "code",
      "execution_count": null,
      "id": "1d469719-2da0-4c87-8b68-3c70a101d22d",
      "metadata": {
        "id": "1d469719-2da0-4c87-8b68-3c70a101d22d",
        "outputId": "557d7bca-cf67-4766-9626-e140685f996c"
      },
      "outputs": [
        {
          "name": "stdout",
          "output_type": "stream",
          "text": [
            "📥 Carregando coordenadas dos tweets...\n"
          ]
        },
        {
          "name": "stderr",
          "output_type": "stream",
          "text": [
            "100%|██████████| 11/11 [00:10<00:00,  1.03it/s]\n"
          ]
        },
        {
          "name": "stdout",
          "output_type": "stream",
          "text": [
            "✅ Total coordinates loaded: 1,732,637\n",
            "🗺️ Gerando mapa de calor global...\n",
            "✅ Mapa salvo em: /n/netscratch/cga/Lab/rpalbuquerque/stoicism_v3/stoicism_heatmap_global.html\n"
          ]
        }
      ],
      "source": [
        "import os\n",
        "import pandas as pd\n",
        "import folium\n",
        "from folium.plugins import HeatMap\n",
        "from tqdm import tqdm\n",
        "\n",
        "# -------------------------------\n",
        "# CONFIGURATION\n",
        "# -------------------------------\n",
        "INPUT_FOLDER = \"/n/netscratch/cga/Lab/rpalbuquerque/stoicism_v3/\"\n",
        "OUTPUT_MAP = os.path.join(INPUT_FOLDER, \"stoicism_heatmap_global.html\")\n",
        "YEARS = list(range(2013, 2024))  # opcional: restringe para quando há volume\n",
        "\n",
        "# -------------------------------\n",
        "# LOAD ALL COORDINATES\n",
        "# -------------------------------\n",
        "heat_data = []\n",
        "\n",
        "print(\"📥 Carregando coordenadas dos tweets...\")\n",
        "for year in tqdm(YEARS):\n",
        "    file_path = os.path.join(INPUT_FOLDER, f\"mapped_semantic_valid_{year}.csv.gz\")\n",
        "    if not os.path.exists(file_path):\n",
        "        continue\n",
        "\n",
        "    df = pd.read_csv(file_path, usecols=[\"latitude\", \"longitude\"])\n",
        "    df = df.dropna()\n",
        "    df[\"latitude\"] = pd.to_numeric(df[\"latitude\"], errors=\"coerce\")\n",
        "    df[\"longitude\"] = pd.to_numeric(df[\"longitude\"], errors=\"coerce\")\n",
        "    df = df.dropna()\n",
        "\n",
        "    coords = df[[\"latitude\", \"longitude\"]].values.tolist()\n",
        "    heat_data.extend(coords)\n",
        "\n",
        "print(f\"✅ Total coordinates loaded: {len(heat_data):,}\")\n",
        "\n",
        "# -------------------------------\n",
        "# GENERATE MAP\n",
        "# -------------------------------\n",
        "print(\"🗺️ Gerando mapa de calor global...\")\n",
        "\n",
        "m = folium.Map(location=[20, 0], zoom_start=2, tiles=\"CartoDB dark_matter\")\n",
        "HeatMap(heat_data, radius=6, blur=8, min_opacity=0.3).add_to(m)\n",
        "m.save(OUTPUT_MAP)\n",
        "\n",
        "print(f\"✅ Mapa salvo em: {OUTPUT_MAP}\")"
      ]
    },
    {
      "cell_type": "code",
      "execution_count": null,
      "id": "f498ef4a-f2e4-485f-b9f7-2a4c425a597d",
      "metadata": {
        "id": "f498ef4a-f2e4-485f-b9f7-2a4c425a597d"
      },
      "outputs": [],
      "source": [
        "## Block 4B: Light Mode Global Heatmap"
      ]
    },
    {
      "cell_type": "code",
      "execution_count": null,
      "id": "a455b070-8157-402c-b3b3-82b4fec03806",
      "metadata": {
        "id": "a455b070-8157-402c-b3b3-82b4fec03806",
        "outputId": "e234557c-0fcf-41c4-a35c-8a6149d22cb4"
      },
      "outputs": [
        {
          "name": "stdout",
          "output_type": "stream",
          "text": [
            "📥 Carregando coordenadas dos tweets...\n"
          ]
        },
        {
          "name": "stderr",
          "output_type": "stream",
          "text": [
            "100%|██████████| 11/11 [00:10<00:00,  1.04it/s]\n"
          ]
        },
        {
          "name": "stdout",
          "output_type": "stream",
          "text": [
            "✅ Total coordinates loaded: 1,732,637\n",
            "🗺️ Gerando mapa de calor versão clara...\n",
            "✅ Mapa claro salvo em: /n/netscratch/cga/Lab/rpalbuquerque/stoicism_v3/stoicism_heatmap_global_light.html\n"
          ]
        }
      ],
      "source": [
        "import os\n",
        "import pandas as pd\n",
        "import folium\n",
        "from folium.plugins import HeatMap\n",
        "from tqdm import tqdm\n",
        "\n",
        "# -------------------------------\n",
        "# CONFIGURATION\n",
        "# -------------------------------\n",
        "INPUT_FOLDER = \"/n/netscratch/cga/Lab/rpalbuquerque/stoicism_v3/\"\n",
        "OUTPUT_MAP = os.path.join(INPUT_FOLDER, \"stoicism_heatmap_global_light.html\")\n",
        "YEARS = list(range(2013, 2024))  # Pode ajustar\n",
        "\n",
        "# -------------------------------\n",
        "# LOAD ALL COORDINATES\n",
        "# -------------------------------\n",
        "heat_data = []\n",
        "\n",
        "print(\"📥 Carregando coordenadas dos tweets...\")\n",
        "for year in tqdm(YEARS):\n",
        "    file_path = os.path.join(INPUT_FOLDER, f\"mapped_semantic_valid_{year}.csv.gz\")\n",
        "    if not os.path.exists(file_path):\n",
        "        continue\n",
        "\n",
        "    df = pd.read_csv(file_path, usecols=[\"latitude\", \"longitude\"])\n",
        "    df = df.dropna()\n",
        "    df[\"latitude\"] = pd.to_numeric(df[\"latitude\"], errors=\"coerce\")\n",
        "    df[\"longitude\"] = pd.to_numeric(df[\"longitude\"], errors=\"coerce\")\n",
        "    df = df.dropna()\n",
        "\n",
        "    coords = df[[\"latitude\", \"longitude\"]].values.tolist()\n",
        "    heat_data.extend(coords)\n",
        "\n",
        "print(f\"✅ Total coordinates loaded: {len(heat_data):,}\")\n",
        "\n",
        "# -------------------------------\n",
        "# GENERATE LIGHT MAP\n",
        "# -------------------------------\n",
        "print(\"🗺️ Gerando mapa de calor versão clara...\")\n",
        "\n",
        "m = folium.Map(location=[20, 0], zoom_start=2, tiles=\"CartoDB positron\")\n",
        "HeatMap(heat_data, radius=6, blur=8, min_opacity=0.3).add_to(m)\n",
        "m.save(OUTPUT_MAP)\n",
        "\n",
        "print(f\"✅ Mapa claro salvo em: {OUTPUT_MAP}\")"
      ]
    },
    {
      "cell_type": "code",
      "execution_count": null,
      "id": "a578a822-dc5d-4a20-a48a-5f0fbc3df8a8",
      "metadata": {
        "id": "a578a822-dc5d-4a20-a48a-5f0fbc3df8a8"
      },
      "outputs": [],
      "source": [
        "##🔹 Block 5 — Term Frequency Over Time"
      ]
    },
    {
      "cell_type": "code",
      "execution_count": null,
      "id": "ade888f8-51fa-4fea-884b-ae6235a8d13e",
      "metadata": {
        "id": "ade888f8-51fa-4fea-884b-ae6235a8d13e",
        "outputId": "3c60b9e4-17a6-4123-abc6-61ee38db53f4"
      },
      "outputs": [
        {
          "name": "stdout",
          "output_type": "stream",
          "text": [
            "🔍 Calculando frequência dos termos por ano...\n"
          ]
        },
        {
          "name": "stderr",
          "output_type": "stream",
          "text": [
            "100%|██████████| 11/11 [00:11<00:00,  1.02s/it]\n"
          ]
        },
        {
          "name": "stdout",
          "output_type": "stream",
          "text": [
            "✅ Term frequency table saved to: /n/netscratch/cga/Lab/rpalbuquerque/stoicism_v3/term_frequency_by_year.csv\n",
            "✅ Evolution plot saved to: /n/netscratch/cga/Lab/rpalbuquerque/stoicism_v3/plots/term_evolution.png\n"
          ]
        }
      ],
      "source": [
        "import os\n",
        "import pandas as pd\n",
        "import matplotlib.pyplot as plt\n",
        "from collections import Counter\n",
        "from tqdm import tqdm\n",
        "\n",
        "# -------------------------------\n",
        "# CONFIGURATION\n",
        "# -------------------------------\n",
        "INPUT_FOLDER = \"/n/netscratch/cga/Lab/rpalbuquerque/stoicism_v3/\"\n",
        "YEARS = list(range(2013, 2024))\n",
        "OUTPUT_TERMS_BY_YEAR = os.path.join(INPUT_FOLDER, \"term_frequency_by_year.csv\")\n",
        "PLOT_PATH = os.path.join(INPUT_FOLDER, \"plots/term_evolution.png\")\n",
        "os.makedirs(os.path.dirname(PLOT_PATH), exist_ok=True)\n",
        "\n",
        "# -------------------------------\n",
        "# AGGREGATE TERM FREQUENCIES\n",
        "# -------------------------------\n",
        "print(\"🔍 Calculando frequência dos termos por ano...\")\n",
        "all_term_counts = {}\n",
        "\n",
        "for year in tqdm(YEARS):\n",
        "    file_path = os.path.join(INPUT_FOLDER, f\"mapped_semantic_valid_{year}.csv.gz\")\n",
        "    if not os.path.exists(file_path):\n",
        "        continue\n",
        "\n",
        "    df = pd.read_csv(file_path, usecols=[\"terms_detected\"])\n",
        "    df = df.dropna()\n",
        "\n",
        "    year_terms = Counter()\n",
        "    for row in df[\"terms_detected\"]:\n",
        "        terms = [t.strip().lower() for t in str(row).split(\",\") if t.strip()]\n",
        "        year_terms.update(terms)\n",
        "\n",
        "    all_term_counts[year] = dict(year_terms)\n",
        "\n",
        "# -------------------------------\n",
        "# BUILD FREQUENCY TABLE\n",
        "# -------------------------------\n",
        "df_terms = pd.DataFrame(all_term_counts).fillna(0).astype(int)\n",
        "df_terms[\"total\"] = df_terms.sum(axis=1)\n",
        "df_terms_sorted = df_terms.sort_values(\"total\", ascending=False).drop(columns=[\"total\"])\n",
        "df_terms_sorted.to_csv(OUTPUT_TERMS_BY_YEAR)\n",
        "\n",
        "# -------------------------------\n",
        "# PLOT TOP TERMS EVOLUTION\n",
        "# -------------------------------\n",
        "top_terms = df_terms.sort_values(\"total\", ascending=False).head(6).index.tolist()\n",
        "\n",
        "plt.figure(figsize=(10, 6))\n",
        "for term in top_terms:\n",
        "    plt.plot(df_terms_sorted.columns, df_terms_sorted.loc[term], marker=\"o\", label=term.capitalize())\n",
        "\n",
        "plt.title(\"Top Stoicism Terms Over Time (2013–2023)\")\n",
        "plt.xlabel(\"Year\")\n",
        "plt.ylabel(\"Frequency\")\n",
        "plt.xticks(rotation=45)\n",
        "plt.legend()\n",
        "plt.grid(True)\n",
        "plt.tight_layout()\n",
        "plt.savefig(PLOT_PATH)\n",
        "plt.close()\n",
        "\n",
        "print(f\"✅ Term frequency table saved to: {OUTPUT_TERMS_BY_YEAR}\")\n",
        "print(f\"✅ Evolution plot saved to: {PLOT_PATH}\")"
      ]
    },
    {
      "cell_type": "code",
      "execution_count": null,
      "id": "6413cb3b-0947-4e3d-882a-150dca2385d9",
      "metadata": {
        "id": "6413cb3b-0947-4e3d-882a-150dca2385d9"
      },
      "outputs": [],
      "source": [
        "##🔹 Block 6 — Term Frequency by Country"
      ]
    },
    {
      "cell_type": "code",
      "execution_count": null,
      "id": "07aa5309-e4f8-4c0d-ab24-92f23673bb02",
      "metadata": {
        "id": "07aa5309-e4f8-4c0d-ab24-92f23673bb02",
        "outputId": "2e390726-d7d6-45fb-bec8-8bb3493fa291"
      },
      "outputs": [
        {
          "name": "stdout",
          "output_type": "stream",
          "text": [
            "🌍 Iniciando contagem de termos por país...\n"
          ]
        },
        {
          "name": "stderr",
          "output_type": "stream",
          "text": [
            "100%|██████████| 11/11 [01:27<00:00,  7.99s/it]\n",
            "/tmp/ipykernel_2432149/1780613610.py:51: PerformanceWarning: DataFrame is highly fragmented.  This is usually the result of calling `frame.insert` many times, which has poor performance.  Consider joining all columns at once using pd.concat(axis=1) instead. To get a de-fragmented frame, use `newframe = frame.copy()`\n",
            "  df_output[\"TOTAL_TERMS\"] = df_output.sum(axis=1)\n"
          ]
        },
        {
          "name": "stdout",
          "output_type": "stream",
          "text": [
            "📊 Montando tabela final...\n",
            "✅ Tabela salva em: /n/netscratch/cga/Lab/rpalbuquerque/stoicism_v3/term_frequency_by_country.csv\n"
          ]
        }
      ],
      "source": [
        "import os\n",
        "import pandas as pd\n",
        "from collections import Counter, defaultdict\n",
        "from tqdm import tqdm\n",
        "\n",
        "# -------------------------------\n",
        "# CONFIGURATION\n",
        "# -------------------------------\n",
        "INPUT_FOLDER = \"/n/netscratch/cga/Lab/rpalbuquerque/stoicism_v3/\"\n",
        "OUTPUT_FILE = os.path.join(INPUT_FOLDER, \"term_frequency_by_country.csv\")\n",
        "YEARS = list(range(2013, 2024))  # Anos com volume relevante\n",
        "\n",
        "# -------------------------------\n",
        "# CONTAGEM DE TERMOS POR PAÍS\n",
        "# -------------------------------\n",
        "print(\"🌍 Iniciando contagem de termos por país...\")\n",
        "country_term_counter = defaultdict(Counter)\n",
        "country_total_tweets = Counter()\n",
        "\n",
        "for year in tqdm(YEARS):\n",
        "    file_path = os.path.join(INPUT_FOLDER, f\"mapped_semantic_valid_{year}.csv.gz\")\n",
        "    if not os.path.exists(file_path):\n",
        "        continue\n",
        "\n",
        "    df = pd.read_csv(file_path, usecols=[\"country\", \"terms_detected\"])\n",
        "    df = df.dropna(subset=[\"country\", \"terms_detected\"])\n",
        "\n",
        "    for _, row in df.iterrows():\n",
        "        country = row[\"country\"].strip()\n",
        "        terms = [t.strip().lower() for t in str(row[\"terms_detected\"]).split(\",\") if t.strip()]\n",
        "        if not terms:\n",
        "            continue\n",
        "\n",
        "        country_total_tweets[country] += 1\n",
        "        for term in terms:\n",
        "            country_term_counter[country][term] += 1\n",
        "\n",
        "# -------------------------------\n",
        "# CRIAR TABELA FINAL\n",
        "# -------------------------------\n",
        "print(\"📊 Montando tabela final...\")\n",
        "all_terms = sorted({term for counter in country_term_counter.values() for term in counter})\n",
        "all_countries = sorted(country_term_counter.keys())\n",
        "\n",
        "df_output = pd.DataFrame(index=all_countries, columns=all_terms).fillna(0).astype(int)\n",
        "\n",
        "for country in all_countries:\n",
        "    for term in country_term_counter[country]:\n",
        "        df_output.at[country, term] = country_term_counter[country][term]\n",
        "\n",
        "df_output[\"TOTAL_TERMS\"] = df_output.sum(axis=1)\n",
        "df_output = df_output.sort_values(\"TOTAL_TERMS\", ascending=False)\n",
        "\n",
        "# -------------------------------\n",
        "# SALVAR CSV\n",
        "# -------------------------------\n",
        "df_output.to_csv(OUTPUT_FILE)\n",
        "print(f\"✅ Tabela salva em: {OUTPUT_FILE}\")"
      ]
    },
    {
      "cell_type": "code",
      "execution_count": null,
      "id": "832e4198-e357-4f89-9652-e22828042f9e",
      "metadata": {
        "id": "832e4198-e357-4f89-9652-e22828042f9e",
        "outputId": "34cd235c-e2a4-4676-c448-27e299b73d3f"
      },
      "outputs": [
        {
          "name": "stdout",
          "output_type": "stream",
          "text": [
            "🔍 Colunas disponíveis: ['Unnamed: 0', \"'altrui'\", \"'altrui']\", \"'amorfati'\", \"'amorfati']\", \"'aristot'\", \"'aristot']\", \"'aurelius'\", \"'aurelius']\", \"'chrysippus'\", \"'chrysippus']\", \"'cicero'\", \"'cicero']\", \"'cleanthes'\", \"'cleanthes']\", \"'commongood'\", \"'commongood']\", \"'cosmop'\", \"'cosmop']\", \"'dichotomyofcontrol']\", \"'diogenes'\", \"'diogenes']\", \"'epictet'\", \"'epictet']\", \"'epicur'\", \"'epicur']\", \"'eudaimon'\", \"'eudaimon']\", \"'hadot'\", \"'hadot']\", \"'hedon'\", \"'hedon']\", \"'humandignity']\", \"'jordanpeterson'\", \"'jordanpeterson']\", \"'mattis'\", \"'mattis']\", \"'mementomori'\", \"'mementomori']\", \"'moralaction']\", \"'moralinjury']\", \"'musoniusrufus']\", \"'nussbaum'\", \"'nussbaum']\", \"'peripatetic'\", \"'peripatetic']\", \"'philosoph'\", \"'philosoph']\", \"'phılosoph']\", \"'pigliucci'\", \"'pigliucci']\", \"'plato'\", \"'plato']\", \"'pythago'\", \"'pythago']\", \"'ryanholiday'\", \"'ryanholiday']\", \"'seneca'\", \"'seneca']\", \"'socrat'\", \"'socrat']\", \"'stioc']\", \"'stockdale'\", \"'stockdale']\", \"'stoic'\", \"'stoic']\", \"'timferriss'\", \"'timferriss']\", \"'zeno'\", \"'zeno']\", \"['altrui'\", \"['altrui']\", \"['amorfati'\", \"['amorfati']\", \"['aristot'\", \"['aristot']\", \"['ari̇stot']\", \"['aurelius'\", \"['aurelius']\", \"['chrysippus'\", \"['chrysippus']\", \"['cicero'\", \"['cicero']\", \"['cleanthes'\", \"['cleanthes']\", \"['commongood'\", \"['commongood']\", \"['cosmop'\", \"['cosmop']\", \"['diogenes'\", \"['diogenes']\", \"['epictet'\", \"['epictet']\", \"['epicur'\", \"['epicur']\", \"['eudaimon'\", \"['eudaimon']\", \"['hadot'\", \"['hadot']\", \"['hedon'\", \"['hedon']\", \"['humandignity'\", \"['humandignity']\", \"['humanworth']\", \"['jordanpeterson'\", \"['jordanpeterson']\", \"['mattis'\", \"['mattis']\", \"['mementomori'\", \"['mementomori']\", \"['moralaction'\", \"['moralaction']\", \"['moralinjury'\", \"['moralinjury']\", \"['moralprogress']\", \"['moralpurpose']\", \"['musoniusrufus'\", \"['musoniusrufus']\", \"['nussbaum'\", \"['nussbaum']\", \"['peripatetic'\", \"['peripatetic']\", \"['philosoph'\", \"['philosoph']\", \"['phılosoph']\", \"['pigliucci'\", \"['pigliucci']\", \"['plato'\", \"['plato']\", \"['pythago'\", \"['pythago']\", \"['ryanholiday'\", \"['ryanholiday']\", \"['seneca'\", \"['seneca']\", \"['socrat'\", \"['socrat']\", \"['stioc']\", \"['stockdale'\", \"['stockdale']\", \"['stoic'\", \"['stoic']\", \"['timferriss'\", \"['timferriss']\", \"['zeno'\", \"['zeno']\", 'TOTAL_TERMS']\n",
            "\n",
            "🌍 Top 10 países com mais termos detectados:\n",
            "      Unnamed: 0  TOTAL_TERMS\n",
            "   United States       473892\n",
            "         Bermuda       288289\n",
            "  United Kingdom       172705\n",
            "          Mexico       144738\n",
            "         Bahamas       109815\n",
            "    Saudi Arabia        66455\n",
            "            Cuba        37293\n",
            "     Philippines        32315\n",
            "           India        27051\n",
            "Christmas Island        22101\n"
          ]
        }
      ],
      "source": [
        "import pandas as pd\n",
        "\n",
        "# Caminho da tabela\n",
        "path = \"/n/netscratch/cga/Lab/rpalbuquerque/stoicism_v3/term_frequency_by_country.csv\"\n",
        "\n",
        "# Carregar tabela\n",
        "df = pd.read_csv(path)\n",
        "\n",
        "# Verificar nomes reais das colunas\n",
        "print(\"🔍 Colunas disponíveis:\", list(df.columns))\n",
        "\n",
        "# Corrigir nome da coluna se necessário\n",
        "country_col = \"country\" if \"country\" in df.columns else df.columns[0]  # fallback para a primeira\n",
        "\n",
        "# Exibir os 10 países com mais termos detectados\n",
        "top10 = df[[country_col, \"TOTAL_TERMS\"]].sort_values(by=\"TOTAL_TERMS\", ascending=False).head(10)\n",
        "\n",
        "# Mostrar resultado\n",
        "print(\"\\n🌍 Top 10 países com mais termos detectados:\")\n",
        "print(top10.to_string(index=False))"
      ]
    },
    {
      "cell_type": "code",
      "execution_count": null,
      "id": "e5f5f93d-b36d-4bb3-a3a9-dfc37e7d3d6b",
      "metadata": {
        "id": "e5f5f93d-b36d-4bb3-a3a9-dfc37e7d3d6b"
      },
      "outputs": [],
      "source": [
        "##🔹 Código — Block 7: Termos por País (Visualização)"
      ]
    },
    {
      "cell_type": "code",
      "execution_count": null,
      "id": "505d54bd-198c-41ef-a39d-34cbb259d275",
      "metadata": {
        "id": "505d54bd-198c-41ef-a39d-34cbb259d275",
        "outputId": "82233514-77b6-44fb-c00a-d0d1c4e43250"
      },
      "outputs": [
        {
          "name": "stdout",
          "output_type": "stream",
          "text": [
            "✅ Block 7 complete — gráficos salvos em:\n",
            "→ /n/netscratch/cga/Lab/rpalbuquerque/stoicism_v3/plots/top10_total_terms_by_country.png\n",
            "→ /n/netscratch/cga/Lab/rpalbuquerque/stoicism_v3/plots/stacked_top_terms_by_country.png\n"
          ]
        },
        {
          "data": {
            "text/plain": [
              "<Figure size 1000x600 with 0 Axes>"
            ]
          },
          "metadata": {},
          "output_type": "display_data"
        }
      ],
      "source": [
        "import pandas as pd\n",
        "import matplotlib.pyplot as plt\n",
        "import os\n",
        "\n",
        "# -------------------------------\n",
        "# CONFIGURATION\n",
        "# -------------------------------\n",
        "DATA_PATH = \"/n/netscratch/cga/Lab/rpalbuquerque/stoicism_v3/term_frequency_by_country.csv\"\n",
        "PLOT_DIR = \"/n/netscratch/cga/Lab/rpalbuquerque/stoicism_v3/plots/\"\n",
        "os.makedirs(PLOT_DIR, exist_ok=True)\n",
        "\n",
        "# -------------------------------\n",
        "# LOAD DATA\n",
        "# -------------------------------\n",
        "df = pd.read_csv(DATA_PATH)\n",
        "df = df.rename(columns={df.columns[0]: \"country\"})  # corrigir Unnamed: 0\n",
        "df = df.set_index(\"country\")\n",
        "df = df.sort_values(\"TOTAL_TERMS\", ascending=False)\n",
        "\n",
        "# -------------------------------\n",
        "# PLOT 1 — TOP 10 COUNTRIES BY TOTAL TERMS\n",
        "# -------------------------------\n",
        "top10 = df[[\"TOTAL_TERMS\"]].head(10)\n",
        "\n",
        "plt.figure(figsize=(10, 6))\n",
        "top10[::-1].plot(kind=\"barh\", legend=False, color=\"skyblue\")\n",
        "plt.title(\"Top 10 Countries by Stoicism Term Frequency\")\n",
        "plt.xlabel(\"Number of Terms\")\n",
        "plt.ylabel(\"Country\")\n",
        "plt.tight_layout()\n",
        "plt.savefig(os.path.join(PLOT_DIR, \"top10_total_terms_by_country.png\"))\n",
        "plt.close()\n",
        "\n",
        "# -------------------------------\n",
        "# PLOT 2 — TOP TERMS IN TOP COUNTRIES (STACKED BAR)\n",
        "# -------------------------------\n",
        "# Selecionar termos mais relevantes (ex: os 6 mais frequentes globalmente)\n",
        "term_cols = [col for col in df.columns if col != \"TOTAL_TERMS\"]\n",
        "df_terms_only = df[term_cols]\n",
        "top_terms = df_terms_only.sum().sort_values(ascending=False).head(6).index.tolist()\n",
        "\n",
        "# Dados para os 10 países com mais termos\n",
        "df_top10_terms = df.loc[top10.index, top_terms]\n",
        "\n",
        "# Gráfico empilhado\n",
        "df_top10_terms.plot(kind=\"barh\", stacked=True, figsize=(10, 7), colormap=\"tab10\")\n",
        "plt.title(\"Distribution of Top Stoic Terms in Top 10 Countries\")\n",
        "plt.xlabel(\"Number of Mentions\")\n",
        "plt.ylabel(\"Country\")\n",
        "plt.legend(title=\"Term\", bbox_to_anchor=(1.05, 1), loc='upper left')\n",
        "plt.tight_layout()\n",
        "plt.savefig(os.path.join(PLOT_DIR, \"stacked_top_terms_by_country.png\"))\n",
        "plt.close()\n",
        "\n",
        "print(\"✅ Block 7 complete — gráficos salvos em:\")\n",
        "print(f\"→ {PLOT_DIR}top10_total_terms_by_country.png\")\n",
        "print(f\"→ {PLOT_DIR}stacked_top_terms_by_country.png\")"
      ]
    },
    {
      "cell_type": "code",
      "execution_count": null,
      "id": "57d24f69-1f63-4d33-9d41-9f6a3d34e00c",
      "metadata": {
        "id": "57d24f69-1f63-4d33-9d41-9f6a3d34e00c",
        "outputId": "f86f1b32-907c-4361-9c4b-d10acb8f2515"
      },
      "outputs": [
        {
          "data": {
            "image/png": "[encoded data removed]",
            "text/plain": [
              "<Figure size 1200x600 with 1 Axes>"
            ]
          },
          "metadata": {},
          "output_type": "display_data"
        },
        {
          "data": {
            "image/png": "[encoded data removed]",
            "text/plain": [
              "<Figure size 1200x700 with 1 Axes>"
            ]
          },
          "metadata": {},
          "output_type": "display_data"
        }
      ],
      "source": [
        "import matplotlib.pyplot as plt\n",
        "import matplotlib.image as mpimg\n",
        "\n",
        "# -------------------------------\n",
        "# Caminhos dos arquivos de imagem\n",
        "# -------------------------------\n",
        "img1_path = \"/n/netscratch/cga/Lab/rpalbuquerque/stoicism_v3/plots/top10_total_terms_by_country.png\"\n",
        "img2_path = \"/n/netscratch/cga/Lab/rpalbuquerque/stoicism_v3/plots/stacked_top_terms_by_country.png\"\n",
        "\n",
        "# -------------------------------\n",
        "# Exibir imagem 1 — Top 10 países\n",
        "# -------------------------------\n",
        "img1 = mpimg.imread(img1_path)\n",
        "plt.figure(figsize=(12, 6))\n",
        "plt.imshow(img1)\n",
        "plt.axis('off')\n",
        "plt.title(\"Top 10 Countries by Stoicism Term Frequency\")\n",
        "plt.show()\n",
        "\n",
        "# -------------------------------\n",
        "# Exibir imagem 2 — Termos empilhados\n",
        "# -------------------------------\n",
        "img2 = mpimg.imread(img2_path)\n",
        "plt.figure(figsize=(12, 7))\n",
        "plt.imshow(img2)\n",
        "plt.axis('off')\n",
        "plt.title(\"Stacked Top Terms by Country\")\n",
        "plt.show()"
      ]
    },
    {
      "cell_type": "code",
      "execution_count": null,
      "id": "0c190308-d044-47d8-baa7-ded51df38d43",
      "metadata": {
        "id": "0c190308-d044-47d8-baa7-ded51df38d43"
      },
      "outputs": [],
      "source": [
        "##🔹 Block 8 — Semantic Clustering by Country"
      ]
    },
    {
      "cell_type": "code",
      "execution_count": null,
      "id": "ccfbb2d4-a084-40cd-bc19-576cab9c518e",
      "metadata": {
        "id": "ccfbb2d4-a084-40cd-bc19-576cab9c518e",
        "outputId": "da7015fa-8bf8-4a88-d9f4-3843272822a2"
      },
      "outputs": [
        {
          "name": "stderr",
          "output_type": "stream",
          "text": [
            "/n/home03/rpereiraalbuquerque/meu_ambiente_bertopic/lib/python3.8/site-packages/sklearn/cluster/_kmeans.py:1416: FutureWarning: The default value of `n_init` will change from 10 to 'auto' in 1.4. Set the value of `n_init` explicitly to suppress the warning\n",
            "  super()._check_params_vs_input(X, default_n_init=10)\n"
          ]
        },
        {
          "name": "stdout",
          "output_type": "stream",
          "text": [
            "✅ Block 8 complete — gráfico salvo em: /n/netscratch/cga/Lab/rpalbuquerque/stoicism_v3/plots/semantic_clusters_countries.png\n"
          ]
        }
      ],
      "source": [
        "import pandas as pd\n",
        "import matplotlib.pyplot as plt\n",
        "import os\n",
        "from sklearn.preprocessing import StandardScaler\n",
        "from sklearn.decomposition import PCA\n",
        "from sklearn.cluster import KMeans\n",
        "\n",
        "# -------------------------------\n",
        "# CONFIGURATION\n",
        "# -------------------------------\n",
        "DATA_PATH = \"/n/netscratch/cga/Lab/rpalbuquerque/stoicism_v3/term_frequency_by_country.csv\"\n",
        "PLOT_PATH = \"/n/netscratch/cga/Lab/rpalbuquerque/stoicism_v3/plots/semantic_clusters_countries.png\"\n",
        "\n",
        "# -------------------------------\n",
        "# LOAD AND PREPARE DATA\n",
        "# -------------------------------\n",
        "df = pd.read_csv(DATA_PATH)\n",
        "df = df.rename(columns={df.columns[0]: \"country\"})\n",
        "df = df.set_index(\"country\")\n",
        "df_terms = df.drop(columns=[\"TOTAL_TERMS\"])\n",
        "\n",
        "# -------------------------------\n",
        "# SCALE + PCA + CLUSTERING\n",
        "# -------------------------------\n",
        "scaler = StandardScaler()\n",
        "X_scaled = scaler.fit_transform(df_terms)\n",
        "\n",
        "pca = PCA(n_components=2)\n",
        "X_pca = pca.fit_transform(X_scaled)\n",
        "\n",
        "kmeans = KMeans(n_clusters=4, random_state=42)\n",
        "clusters = kmeans.fit_predict(X_pca)\n",
        "\n",
        "# -------------------------------\n",
        "# PLOT CLUSTERS\n",
        "# -------------------------------\n",
        "plt.figure(figsize=(10, 7))\n",
        "scatter = plt.scatter(X_pca[:, 0], X_pca[:, 1], c=clusters, cmap='tab10', s=80, edgecolors='k')\n",
        "\n",
        "# Anotar países mais influentes\n",
        "for i, country in enumerate(df_terms.index):\n",
        "    if df[\"TOTAL_TERMS\"].iloc[i] > 30000:\n",
        "        plt.text(X_pca[i, 0], X_pca[i, 1], country, fontsize=9, ha='right', va='bottom')\n",
        "\n",
        "plt.title(\"Semantic Clustering of Countries by Stoic Term Usage\")\n",
        "plt.xlabel(\"PCA Component 1\")\n",
        "plt.ylabel(\"PCA Component 2\")\n",
        "plt.grid(True)\n",
        "plt.tight_layout()\n",
        "plt.savefig(PLOT_PATH)\n",
        "plt.close()\n",
        "\n",
        "print(f\"✅ Block 8 complete — gráfico salvo em: {PLOT_PATH}\")"
      ]
    },
    {
      "cell_type": "code",
      "execution_count": null,
      "id": "f52f40bd-c96f-44e0-93df-19c27acf8d1e",
      "metadata": {
        "id": "f52f40bd-c96f-44e0-93df-19c27acf8d1e",
        "outputId": "e7a184ec-6e51-49f8-b19b-9b1bf025cffe"
      },
      "outputs": [
        {
          "data": {
            "image/png": "[encoded data removed]",
            "text/plain": [
              "<Figure size 1200x800 with 1 Axes>"
            ]
          },
          "metadata": {},
          "output_type": "display_data"
        }
      ],
      "source": [
        "import matplotlib.pyplot as plt\n",
        "import matplotlib.image as mpimg\n",
        "\n",
        "# Caminho do gráfico salvo\n",
        "img_path = \"/n/netscratch/cga/Lab/rpalbuquerque/stoicism_v3/plots/semantic_clusters_countries.png\"\n",
        "\n",
        "# Exibir imagem\n",
        "img = mpimg.imread(img_path)\n",
        "plt.figure(figsize=(12, 8))\n",
        "plt.imshow(img)\n",
        "plt.axis('off')\n",
        "plt.title(\"Semantic Clustering of Countries by Stoic Term Usage\", fontsize=14)\n",
        "plt.show()"
      ]
    },
    {
      "cell_type": "code",
      "execution_count": null,
      "id": "8402fdb9-5e2d-4d53-beb4-e6c4dd055d75",
      "metadata": {
        "id": "8402fdb9-5e2d-4d53-beb4-e6c4dd055d75"
      },
      "outputs": [],
      "source": [
        "##🔹 Block 9 — Final Outputs and Export Package"
      ]
    },
    {
      "cell_type": "code",
      "execution_count": null,
      "id": "d56ec5a1-b312-40af-9495-803e71a8c150",
      "metadata": {
        "id": "d56ec5a1-b312-40af-9495-803e71a8c150",
        "outputId": "ffb1358e-9e7a-4f79-a245-5f45df3116b1"
      },
      "outputs": [
        {
          "name": "stdout",
          "output_type": "stream",
          "text": [
            "✅ Block 9 complete — outputs compactados em:\n",
            "→ /n/netscratch/cga/Lab/rpalbuquerque/stoicism_v3/stoicism_v3_outputs.zip\n"
          ]
        }
      ],
      "source": [
        "import os\n",
        "import zipfile\n",
        "\n",
        "# -------------------------------\n",
        "# CONFIGURAÇÕES\n",
        "# -------------------------------\n",
        "BASE_DIR = \"/n/netscratch/cga/Lab/rpalbuquerque/stoicism_v3/\"\n",
        "OUTPUT_ZIP = os.path.join(BASE_DIR, \"stoicism_v3_outputs.zip\")\n",
        "\n",
        "# Arquivos e pastas a incluir\n",
        "INCLUDE_FILES = [\n",
        "    \"term_frequency_by_year.csv\",\n",
        "    \"term_frequency_by_country.csv\",\n",
        "    \"stoicism_heatmap_global.html\",\n",
        "    \"stoicism_heatmap_global_light.html\",\n",
        "    \"plots/term_evolution.png\",\n",
        "    \"plots/top10_total_terms_by_country.png\",\n",
        "    \"plots/stacked_top_terms_by_country.png\",\n",
        "    \"plots/semantic_clusters_countries.png\"\n",
        "]\n",
        "\n",
        "# -------------------------------\n",
        "# CRIAR ARQUIVO ZIP\n",
        "# -------------------------------\n",
        "with zipfile.ZipFile(OUTPUT_ZIP, \"w\", zipfile.ZIP_DEFLATED) as zipf:\n",
        "    for rel_path in INCLUDE_FILES:\n",
        "        full_path = os.path.join(BASE_DIR, rel_path)\n",
        "        if os.path.exists(full_path):\n",
        "            zipf.write(full_path, arcname=rel_path)\n",
        "\n",
        "print(f\"✅ Block 9 complete — outputs compactados em:\\n→ {OUTPUT_ZIP}\")"
      ]
    },
    {
      "cell_type": "code",
      "execution_count": null,
      "id": "34c9211a-6e5a-4224-b14d-8fffb80a1932",
      "metadata": {
        "id": "34c9211a-6e5a-4224-b14d-8fffb80a1932"
      },
      "outputs": [],
      "source": []
    }
  ],
  "metadata": {
    "kernelspec": {
      "display_name": "Python (meu_ambiente_bertopic)",
      "language": "python",
      "name": "meu_ambiente_bertopic"
    },
    "language_info": {
      "codemirror_mode": {
        "name": "ipython",
        "version": 3
      },
      "file_extension": ".py",
      "mimetype": "text/x-python",
      "name": "python",
      "nbconvert_exporter": "python",
      "pygments_lexer": "ipython3",
      "version": "3.8.8"
    },
    "colab": {
      "provenance": [],
      "include_colab_link": true
    }
  },
  "nbformat": 4,
  "nbformat_minor": 5
}